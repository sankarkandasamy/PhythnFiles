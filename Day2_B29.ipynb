Python 3.8.1 (tags/v3.8.1:1b293b6, Dec 18 2019, 23:11:46) [MSC v.1916 64 bit (AMD64)] on win32
Type "help", "copyright", "credits" or "license()" for more information.
>>> Fullname='sankar kandasamy'
>>> print(Fullname)
sankar kandasamy
>>> Print(Fullname.title())
Traceback (most recent call last):
  File "<pyshell#2>", line 1, in <module>
    Print(Fullname.title())
NameError: name 'Print' is not defined
>>> Print(Fullname.Title())
Traceback (most recent call last):
  File "<pyshell#3>", line 1, in <module>
    Print(Fullname.Title())
NameError: name 'Print' is not defined
>>> clear
Traceback (most recent call last):
  File "<pyshell#4>", line 1, in <module>
    clear
NameError: name 'clear' is not defined
>>> cls
Traceback (most recent call last):
  File "<pyshell#5>", line 1, in <module>
    cls
NameError: name 'cls' is not defined
>>> 